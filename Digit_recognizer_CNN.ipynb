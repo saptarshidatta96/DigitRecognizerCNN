{
  "nbformat": 4,
  "nbformat_minor": 0,
  "metadata": {
    "colab": {
      "name": "Digit recognizer CNN.ipynb",
      "provenance": [],
      "collapsed_sections": [],
      "authorship_tag": "ABX9TyNeOSllR+HzT7AIzWauznxC",
      "include_colab_link": true
    },
    "kernelspec": {
      "name": "python3",
      "display_name": "Python 3"
    },
    "accelerator": "GPU"
  },
  "cells": [
    {
      "cell_type": "markdown",
      "metadata": {
        "id": "view-in-github",
        "colab_type": "text"
      },
      "source": [
        "<a href=\"https://colab.research.google.com/github/saptarshidatta96/DigitRecognizerCNN/blob/master/Digit_recognizer_CNN.ipynb\" target=\"_parent\"><img src=\"https://colab.research.google.com/assets/colab-badge.svg\" alt=\"Open In Colab\"/></a>"
      ]
    },
    {
      "cell_type": "code",
      "metadata": {
        "id": "84giWAA-F2sF",
        "colab_type": "code",
        "colab": {
          "base_uri": "https://localhost:8080/",
          "height": 34
        },
        "outputId": "cb2f79f7-0876-4461-aee7-7cb2cab7709e"
      },
      "source": [
        "from google.colab import drive\n",
        "drive.mount('/content/gdrive')"
      ],
      "execution_count": 21,
      "outputs": [
        {
          "output_type": "stream",
          "text": [
            "Drive already mounted at /content/gdrive; to attempt to forcibly remount, call drive.mount(\"/content/gdrive\", force_remount=True).\n"
          ],
          "name": "stdout"
        }
      ]
    },
    {
      "cell_type": "code",
      "metadata": {
        "id": "3Dh2oYYLHKB8",
        "colab_type": "code",
        "colab": {}
      },
      "source": [
        "import pandas as pd\n",
        "import numpy as np\n",
        "import matplotlib.pyplot as plt\n",
        "import matplotlib.image as mpimg\n",
        "import seaborn as sns\n",
        "%matplotlib inline\n",
        "\n",
        "np.random.seed(2)\n",
        "\n",
        "from sklearn.model_selection import train_test_split\n",
        "from sklearn.metrics import confusion_matrix\n",
        "import itertools\n",
        "\n",
        "import os\n",
        "\n",
        "import tensorflow as tf\n",
        "from tensorflow import keras\n",
        "from tensorflow.keras import layers\n",
        "from tensorflow.keras.models import Sequential\n",
        "from tensorflow.keras.layers import Activation, Dense, Dropout, Flatten, Conv2D, MaxPool2D\n",
        "from tensorflow.keras.optimizers import Adam\n",
        "from tensorflow.keras.metrics import categorical_crossentropy\n",
        "from tensorflow.keras.preprocessing.image import ImageDataGenerator\n",
        "\n",
        "sns.set(style='white', context='notebook', palette='deep')"
      ],
      "execution_count": 22,
      "outputs": []
    },
    {
      "cell_type": "markdown",
      "metadata": {
        "id": "-93z8FXTd_k7",
        "colab_type": "text"
      },
      "source": [
        "#Load the data"
      ]
    },
    {
      "cell_type": "code",
      "metadata": {
        "id": "0Je10YDoGwit",
        "colab_type": "code",
        "colab": {
          "base_uri": "https://localhost:8080/",
          "height": 51
        },
        "outputId": "cc3f3a97-3ffd-4563-aab4-5aefad9aa3b1"
      },
      "source": [
        "train = pd.read_csv('/content/gdrive/My Drive/digit-recognizer/train.csv')\n",
        "test = pd.read_csv('/content/gdrive/My Drive/digit-recognizer/test.csv')\n",
        "\n",
        "print(train.shape)\n",
        "print(test.shape)"
      ],
      "execution_count": 23,
      "outputs": [
        {
          "output_type": "stream",
          "text": [
            "(42000, 785)\n",
            "(28000, 784)\n"
          ],
          "name": "stdout"
        }
      ]
    },
    {
      "cell_type": "code",
      "metadata": {
        "id": "ca-fWo05cmHW",
        "colab_type": "code",
        "colab": {}
      },
      "source": [
        "Y_train = train['label']\n",
        "X_train =train.drop(labels = ['label'], axis = 1)"
      ],
      "execution_count": 24,
      "outputs": []
    },
    {
      "cell_type": "markdown",
      "metadata": {
        "id": "21ArRdKCv-ap",
        "colab_type": "text"
      },
      "source": [
        "#Checking the distribution of the train data"
      ]
    },
    {
      "cell_type": "code",
      "metadata": {
        "id": "roJd4xBUc5yr",
        "colab_type": "code",
        "colab": {
          "base_uri": "https://localhost:8080/",
          "height": 302
        },
        "outputId": "aee28fc2-2054-434d-d1ea-8464fe840b65"
      },
      "source": [
        "sns.countplot(Y_train)"
      ],
      "execution_count": 25,
      "outputs": [
        {
          "output_type": "execute_result",
          "data": {
            "text/plain": [
              "<matplotlib.axes._subplots.AxesSubplot at 0x7fea300883c8>"
            ]
          },
          "metadata": {
            "tags": []
          },
          "execution_count": 25
        },
        {
          "output_type": "display_data",
          "data": {
            "image/png": "[encoded data removed]",
            "text/plain": [
              "<Figure size 432x288 with 1 Axes>"
            ]
          },
          "metadata": {
            "tags": []
          }
        }
      ]
    },
    {
      "cell_type": "markdown",
      "metadata": {
        "id": "i1FeLCPveREz",
        "colab_type": "text"
      },
      "source": [
        "#Testing for Null and Missing values"
      ]
    },
    {
      "cell_type": "code",
      "metadata": {
        "id": "C5xHh-Vldh8U",
        "colab_type": "code",
        "colab": {
          "base_uri": "https://localhost:8080/",
          "height": 221
        },
        "outputId": "003cffbc-9e8d-4a76-9ae5-f8d3367e34d8"
      },
      "source": [
        "X_train.isnull().any()"
      ],
      "execution_count": 26,
      "outputs": [
        {
          "output_type": "execute_result",
          "data": {
            "text/plain": [
              "pixel0      False\n",
              "pixel1      False\n",
              "pixel2      False\n",
              "pixel3      False\n",
              "pixel4      False\n",
              "            ...  \n",
              "pixel779    False\n",
              "pixel780    False\n",
              "pixel781    False\n",
              "pixel782    False\n",
              "pixel783    False\n",
              "Length: 784, dtype: bool"
            ]
          },
          "metadata": {
            "tags": []
          },
          "execution_count": 26
        }
      ]
    },
    {
      "cell_type": "code",
      "metadata": {
        "id": "rtwpAcE8dwcS",
        "colab_type": "code",
        "colab": {
          "base_uri": "https://localhost:8080/",
          "height": 221
        },
        "outputId": "306da00e-531f-4614-cc10-9c82b2b325a9"
      },
      "source": [
        "test.isnull().any()"
      ],
      "execution_count": 27,
      "outputs": [
        {
          "output_type": "execute_result",
          "data": {
            "text/plain": [
              "pixel0      False\n",
              "pixel1      False\n",
              "pixel2      False\n",
              "pixel3      False\n",
              "pixel4      False\n",
              "            ...  \n",
              "pixel779    False\n",
              "pixel780    False\n",
              "pixel781    False\n",
              "pixel782    False\n",
              "pixel783    False\n",
              "Length: 784, dtype: bool"
            ]
          },
          "metadata": {
            "tags": []
          },
          "execution_count": 27
        }
      ]
    },
    {
      "cell_type": "markdown",
      "metadata": {
        "id": "PNpz42nNeVyr",
        "colab_type": "text"
      },
      "source": [
        "#Normalize the Data"
      ]
    },
    {
      "cell_type": "code",
      "metadata": {
        "id": "Hy7eVHfgeZ7s",
        "colab_type": "code",
        "colab": {}
      },
      "source": [
        "x_train = X_train / 255\n",
        "test = test / 255"
      ],
      "execution_count": 28,
      "outputs": []
    },
    {
      "cell_type": "markdown",
      "metadata": {
        "id": "oBWjKxYJrRSf",
        "colab_type": "text"
      },
      "source": [
        "#Reshape"
      ]
    },
    {
      "cell_type": "code",
      "metadata": {
        "id": "UazNGvdSrQ4h",
        "colab_type": "code",
        "colab": {}
      },
      "source": [
        "X_train = X_train.values.reshape(-1, 28, 28, 1)\n",
        "test = test.values.reshape(-1, 28, 28, 1)"
      ],
      "execution_count": 29,
      "outputs": []
    },
    {
      "cell_type": "markdown",
      "metadata": {
        "id": "AYh_nyvN0hqT",
        "colab_type": "text"
      },
      "source": [
        "#Label Encoding"
      ]
    },
    {
      "cell_type": "code",
      "metadata": {
        "id": "FED5MyHW0lqn",
        "colab_type": "code",
        "colab": {}
      },
      "source": [
        "Y_train = tf.keras.utils.to_categorical(Y_train, num_classes = 10)"
      ],
      "execution_count": 30,
      "outputs": []
    },
    {
      "cell_type": "markdown",
      "metadata": {
        "id": "t6PiVfBU8lVE",
        "colab_type": "text"
      },
      "source": [
        "#Split the Training into Training/Test Set"
      ]
    },
    {
      "cell_type": "code",
      "metadata": {
        "id": "16u7qKO1AjM1",
        "colab_type": "code",
        "colab": {}
      },
      "source": [
        "X_train, X_test, Y_train, Y_test = train_test_split(X_train, Y_train, test_size = 0.1, random_state=2)"
      ],
      "execution_count": 31,
      "outputs": []
    },
    {
      "cell_type": "code",
      "metadata": {
        "id": "LI1qJTL1BiMx",
        "colab_type": "code",
        "colab": {
          "base_uri": "https://localhost:8080/",
          "height": 268
        },
        "outputId": "e991717b-4026-4bcb-e041-9892db92fd44"
      },
      "source": [
        "g = plt.imshow(X_train[4][:,:,0])"
      ],
      "execution_count": 32,
      "outputs": [
        {
          "output_type": "display_data",
          "data": {
            "image/png": "[encoded data removed]",
            "text/plain": [
              "<Figure size 432x288 with 1 Axes>"
            ]
          },
          "metadata": {
            "tags": []
          }
        }
      ]
    },
    {
      "cell_type": "markdown",
      "metadata": {
        "id": "QC4QEoxDBrzH",
        "colab_type": "text"
      },
      "source": [
        "#CNN Model"
      ]
    },
    {
      "cell_type": "code",
      "metadata": {
        "id": "mccmVZuWBxvI",
        "colab_type": "code",
        "colab": {}
      },
      "source": [
        "model= tf.keras.models.Sequential(\n",
        "    [tf.keras.layers.Conv2D(filters = 64, kernel_size = (3,3), activation = 'relu', input_shape = (28,28,1)),\n",
        "     tf.keras.layers.Conv2D(filters = 64, kernel_size = (3,3), activation = 'relu'),\n",
        "     tf.keras.layers.MaxPooling2D(2, 2),\n",
        "     tf.keras.layers.Dropout(.25),\n",
        "     tf.keras.layers.Conv2D(filters = 64, kernel_size = (3,3), activation = 'relu'),\n",
        "     tf.keras.layers.MaxPooling2D(2,2),\n",
        "     tf.keras.layers.Flatten(),\n",
        "     tf.keras.layers.Dense(128, activation='relu'),\n",
        "     tf.keras.layers.Dense(10, activation='softmax')]\n",
        ")"
      ],
      "execution_count": 33,
      "outputs": []
    },
    {
      "cell_type": "code",
      "metadata": {
        "id": "nCUpOyboZ4pB",
        "colab_type": "code",
        "colab": {}
      },
      "source": [
        "model.compile(optimizer='adam', loss='categorical_crossentropy', metrics=['accuracy'])"
      ],
      "execution_count": 34,
      "outputs": []
    },
    {
      "cell_type": "code",
      "metadata": {
        "id": "3jTl-EpqaR-_",
        "colab_type": "code",
        "colab": {
          "base_uri": "https://localhost:8080/",
          "height": 459
        },
        "outputId": "28dfc4c4-3844-4264-e32a-d5e2d57b3094"
      },
      "source": [
        "model.summary()"
      ],
      "execution_count": 35,
      "outputs": [
        {
          "output_type": "stream",
          "text": [
            "Model: \"sequential_3\"\n",
            "_________________________________________________________________\n",
            "Layer (type)                 Output Shape              Param #   \n",
            "=================================================================\n",
            "conv2d_7 (Conv2D)            (None, 26, 26, 64)        640       \n",
            "_________________________________________________________________\n",
            "conv2d_8 (Conv2D)            (None, 24, 24, 64)        36928     \n",
            "_________________________________________________________________\n",
            "max_pooling2d_5 (MaxPooling2 (None, 12, 12, 64)        0         \n",
            "_________________________________________________________________\n",
            "dropout_2 (Dropout)          (None, 12, 12, 64)        0         \n",
            "_________________________________________________________________\n",
            "conv2d_9 (Conv2D)            (None, 10, 10, 64)        36928     \n",
            "_________________________________________________________________\n",
            "max_pooling2d_6 (MaxPooling2 (None, 5, 5, 64)          0         \n",
            "_________________________________________________________________\n",
            "flatten_2 (Flatten)          (None, 1600)              0         \n",
            "_________________________________________________________________\n",
            "dense_4 (Dense)              (None, 128)               204928    \n",
            "_________________________________________________________________\n",
            "dense_5 (Dense)              (None, 10)                1290      \n",
            "=================================================================\n",
            "Total params: 280,714\n",
            "Trainable params: 280,714\n",
            "Non-trainable params: 0\n",
            "_________________________________________________________________\n"
          ],
          "name": "stdout"
        }
      ]
    },
    {
      "cell_type": "markdown",
      "metadata": {
        "id": "vUzYLSIlxpAJ",
        "colab_type": "text"
      },
      "source": [
        "Without Data augmentation, Validation accuracy = 98.98%"
      ]
    },
    {
      "cell_type": "code",
      "metadata": {
        "id": "hnd1qwI1afM9",
        "colab_type": "code",
        "colab": {
          "base_uri": "https://localhost:8080/",
          "height": 887
        },
        "outputId": "3f808587-3f8b-4914-daaf-09e1373edcb3"
      },
      "source": [
        "model.fit(X_train, Y_train,validation_data=(X_test, Y_test), batch_size=100, epochs=24, verbose=2)"
      ],
      "execution_count": 37,
      "outputs": [
        {
          "output_type": "stream",
          "text": [
            "Epoch 1/24\n",
            "WARNING:tensorflow:Callbacks method `on_train_batch_end` is slow compared to the batch time (batch time: 0.0040s vs `on_train_batch_end` time: 0.0165s). Check your callbacks.\n",
            "378/378 - 6s - loss: 0.0290 - accuracy: 0.9910 - val_loss: 0.0452 - val_accuracy: 0.9874\n",
            "Epoch 2/24\n",
            "378/378 - 6s - loss: 0.0238 - accuracy: 0.9926 - val_loss: 0.0432 - val_accuracy: 0.9860\n",
            "Epoch 3/24\n",
            "378/378 - 6s - loss: 0.0237 - accuracy: 0.9922 - val_loss: 0.0425 - val_accuracy: 0.9893\n",
            "Epoch 4/24\n",
            "378/378 - 6s - loss: 0.0226 - accuracy: 0.9924 - val_loss: 0.0449 - val_accuracy: 0.9883\n",
            "Epoch 5/24\n",
            "378/378 - 6s - loss: 0.0235 - accuracy: 0.9927 - val_loss: 0.0398 - val_accuracy: 0.9893\n",
            "Epoch 6/24\n",
            "378/378 - 6s - loss: 0.0172 - accuracy: 0.9944 - val_loss: 0.0441 - val_accuracy: 0.9883\n",
            "Epoch 7/24\n",
            "378/378 - 6s - loss: 0.0209 - accuracy: 0.9931 - val_loss: 0.0463 - val_accuracy: 0.9871\n",
            "Epoch 8/24\n",
            "378/378 - 6s - loss: 0.0146 - accuracy: 0.9956 - val_loss: 0.0586 - val_accuracy: 0.9879\n",
            "Epoch 9/24\n",
            "378/378 - 6s - loss: 0.0152 - accuracy: 0.9953 - val_loss: 0.0538 - val_accuracy: 0.9890\n",
            "Epoch 10/24\n",
            "378/378 - 6s - loss: 0.0168 - accuracy: 0.9949 - val_loss: 0.0499 - val_accuracy: 0.9893\n",
            "Epoch 11/24\n",
            "378/378 - 6s - loss: 0.0161 - accuracy: 0.9942 - val_loss: 0.0665 - val_accuracy: 0.9845\n",
            "Epoch 12/24\n",
            "378/378 - 6s - loss: 0.0150 - accuracy: 0.9951 - val_loss: 0.0684 - val_accuracy: 0.9857\n",
            "Epoch 13/24\n",
            "378/378 - 6s - loss: 0.0140 - accuracy: 0.9956 - val_loss: 0.0667 - val_accuracy: 0.9845\n",
            "Epoch 14/24\n",
            "378/378 - 6s - loss: 0.0156 - accuracy: 0.9948 - val_loss: 0.0675 - val_accuracy: 0.9864\n",
            "Epoch 15/24\n",
            "378/378 - 6s - loss: 0.0111 - accuracy: 0.9965 - val_loss: 0.0590 - val_accuracy: 0.9890\n",
            "Epoch 16/24\n",
            "378/378 - 6s - loss: 0.0093 - accuracy: 0.9969 - val_loss: 0.0511 - val_accuracy: 0.9921\n",
            "Epoch 17/24\n",
            "378/378 - 6s - loss: 0.0137 - accuracy: 0.9959 - val_loss: 0.0814 - val_accuracy: 0.9879\n",
            "Epoch 18/24\n",
            "378/378 - 6s - loss: 0.0156 - accuracy: 0.9951 - val_loss: 0.0641 - val_accuracy: 0.9848\n",
            "Epoch 19/24\n",
            "378/378 - 6s - loss: 0.0101 - accuracy: 0.9967 - val_loss: 0.0693 - val_accuracy: 0.9883\n",
            "Epoch 20/24\n",
            "378/378 - 6s - loss: 0.0083 - accuracy: 0.9974 - val_loss: 0.0720 - val_accuracy: 0.9881\n",
            "Epoch 21/24\n",
            "378/378 - 6s - loss: 0.0133 - accuracy: 0.9960 - val_loss: 0.0687 - val_accuracy: 0.9902\n",
            "Epoch 22/24\n",
            "378/378 - 6s - loss: 0.0131 - accuracy: 0.9958 - val_loss: 0.0515 - val_accuracy: 0.9895\n",
            "Epoch 23/24\n",
            "378/378 - 6s - loss: 0.0055 - accuracy: 0.9982 - val_loss: 0.0527 - val_accuracy: 0.9912\n",
            "Epoch 24/24\n",
            "378/378 - 6s - loss: 0.0087 - accuracy: 0.9976 - val_loss: 0.0934 - val_accuracy: 0.9874\n"
          ],
          "name": "stdout"
        },
        {
          "output_type": "execute_result",
          "data": {
            "text/plain": [
              "<tensorflow.python.keras.callbacks.History at 0x7fea300b5fd0>"
            ]
          },
          "metadata": {
            "tags": []
          },
          "execution_count": 37
        }
      ]
    },
    {
      "cell_type": "code",
      "metadata": {
        "id": "Vezvg1GOzYa4",
        "colab_type": "code",
        "colab": {}
      },
      "source": [
        "model.save('/content/gdrive/My Drive/digit-recognizer/digit_recognizer_trial_model.h5')"
      ],
      "execution_count": 38,
      "outputs": []
    },
    {
      "cell_type": "markdown",
      "metadata": {
        "id": "WLnLEMKh1-FI",
        "colab_type": "text"
      },
      "source": [
        "Confusion Matrix"
      ]
    },
    {
      "cell_type": "code",
      "metadata": {
        "id": "L5gP5l60h-mA",
        "colab_type": "code",
        "colab": {
          "base_uri": "https://localhost:8080/",
          "height": 310
        },
        "outputId": "3f6d0462-1a8d-4caf-f37b-322d90641b75"
      },
      "source": [
        "# Look at confusion matrix \n",
        "\n",
        "def plot_confusion_matrix(cm, classes,\n",
        "                          normalize=False,\n",
        "                          title='Confusion matrix',\n",
        "                          cmap=plt.cm.Blues):\n",
        "    \"\"\"\n",
        "    This function prints and plots the confusion matrix.\n",
        "    Normalization can be applied by setting `normalize=True`.\n",
        "    \"\"\"\n",
        "    plt.imshow(cm, interpolation='nearest', cmap=cmap)\n",
        "    plt.title(title)\n",
        "    plt.colorbar()\n",
        "    tick_marks = np.arange(len(classes))\n",
        "    plt.xticks(tick_marks, classes, rotation=45)\n",
        "    plt.yticks(tick_marks, classes)\n",
        "\n",
        "    if normalize:\n",
        "        cm = cm.astype('float') / cm.sum(axis=1)[:, np.newaxis]\n",
        "\n",
        "    thresh = cm.max() / 2.\n",
        "    for i, j in itertools.product(range(cm.shape[0]), range(cm.shape[1])):\n",
        "        plt.text(j, i, cm[i, j],\n",
        "                 horizontalalignment=\"center\",\n",
        "                 color=\"white\" if cm[i, j] > thresh else \"black\")\n",
        "\n",
        "    plt.tight_layout()\n",
        "    plt.ylabel('True label')\n",
        "    plt.xlabel('Predicted label')\n",
        "\n",
        "# Predict the values from the validation dataset\n",
        "Y_pred = model.predict(X_test)\n",
        "# Convert predictions classes to one hot vectors \n",
        "Y_pred_classes = np.argmax(Y_pred,axis = 1)\n",
        "# Convert validation observations to one hot vectors\n",
        "Y_true = np.argmax(Y_test,axis = 1)   \n",
        "# compute the confusion matrix\n",
        "confusion_mtx = confusion_matrix(Y_true, Y_pred_classes) \n",
        "# plot the confusion matrix\n",
        "plot_confusion_matrix(confusion_mtx, classes = range(10)) "
      ],
      "execution_count": 39,
      "outputs": [
        {
          "output_type": "display_data",
          "data": {
            "image/png": "[encoded data removed]",
            "text/plain": [
              "<Figure size 432x288 with 2 Axes>"
            ]
          },
          "metadata": {
            "tags": []
          }
        }
      ]
    },
    {
      "cell_type": "code",
      "metadata": {
        "id": "gLQAVK58lwnw",
        "colab_type": "code",
        "colab": {}
      },
      "source": [
        "# predict results\n",
        "results = model.predict(test)\n",
        "\n",
        "# select the indix with the maximum probability\n",
        "results = np.argmax(results,axis = 1)\n",
        "\n",
        "results = pd.Series(results,name=\"Label\")"
      ],
      "execution_count": 40,
      "outputs": []
    },
    {
      "cell_type": "code",
      "metadata": {
        "id": "gn_ARWYbl1tv",
        "colab_type": "code",
        "colab": {}
      },
      "source": [
        "submission = pd.concat([pd.Series(range(1,28001),name = \"ImageId\"),results],axis = 1)\n",
        "\n",
        "submission.to_csv(\"cnn_mnist_datagen.csv\",index=False)"
      ],
      "execution_count": 41,
      "outputs": []
    }
  ]
}