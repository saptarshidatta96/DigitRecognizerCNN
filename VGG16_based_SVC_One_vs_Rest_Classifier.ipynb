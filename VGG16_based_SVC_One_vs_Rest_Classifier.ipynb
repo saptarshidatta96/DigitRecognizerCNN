{
  "nbformat": 4,
  "nbformat_minor": 0,
  "metadata": {
    "colab": {
      "name": "VGG16 based SVC One vs Rest Classifier.ipynb",
      "provenance": [],
      "collapsed_sections": [],
      "authorship_tag": "ABX9TyNhIByC0YetMOPsvLXdds8H",
      "include_colab_link": true
    },
    "kernelspec": {
      "name": "python3",
      "display_name": "Python 3"
    },
    "language_info": {
      "name": "python"
    }
  },
  "cells": [
    {
      "cell_type": "markdown",
      "metadata": {
        "id": "view-in-github",
        "colab_type": "text"
      },
      "source": [
        "<a href=\"https://colab.research.google.com/github/saptarshidatta96/DigitRecognizerCNN/blob/master/VGG16_based_SVC_One_vs_Rest_Classifier.ipynb\" target=\"_parent\"><img src=\"https://colab.research.google.com/assets/colab-badge.svg\" alt=\"Open In Colab\"/></a>"
      ]
    },
    {
      "cell_type": "code",
      "metadata": {
        "id": "hBaFwIEFzZ9N"
      },
      "source": [
        "import numpy as np\n",
        "import cv2\n",
        "from PIL import Image\n",
        "import tensorflow as tf\n",
        "import pandas as pd\n",
        "import seaborn as sns\n",
        "from tensorflow import keras\n",
        "from tensorflow.keras.models import Sequential\n",
        "from sklearn.metrics import confusion_matrix\n",
        "from sklearn.multiclass import OneVsRestClassifier\n",
        "from sklearn.metrics import accuracy_score, confusion_matrix\n",
        "from sklearn.svm import SVC\n",
        "import itertools\n",
        "import os\n",
        "import os.path\n",
        "import shutil\n",
        "import random\n",
        "import glob\n",
        "import matplotlib.pyplot as plt\n",
        "import warnings\n",
        "import os \n",
        "import xml.etree.ElementTree as ET\n",
        "from collections import OrderedDict\n",
        "warnings.simplefilter(action='ignore', category=FutureWarning)\n",
        "%matplotlib inline"
      ],
      "execution_count": 101,
      "outputs": []
    },
    {
      "cell_type": "code",
      "metadata": {
        "colab": {
          "base_uri": "https://localhost:8080/"
        },
        "id": "LcFPvtNuwjnM",
        "outputId": "005dde9f-a28a-4cea-c346-204f17a041de"
      },
      "source": [
        "from google.colab import drive\n",
        "drive.mount('/content/gdrive')"
      ],
      "execution_count": 78,
      "outputs": [
        {
          "output_type": "stream",
          "name": "stdout",
          "text": [
            "Drive already mounted at /content/gdrive; to attempt to forcibly remount, call drive.mount(\"/content/gdrive\", force_remount=True).\n"
          ]
        }
      ]
    },
    {
      "cell_type": "code",
      "metadata": {
        "colab": {
          "base_uri": "https://localhost:8080/"
        },
        "id": "kjMTSLzmlKJk",
        "outputId": "865ab134-9b24-415c-c85f-d4b67bad565b"
      },
      "source": [
        "!pwd"
      ],
      "execution_count": 79,
      "outputs": [
        {
          "output_type": "stream",
          "name": "stdout",
          "text": [
            "/content\n"
          ]
        }
      ]
    },
    {
      "cell_type": "code",
      "metadata": {
        "id": "nyL5rzY9w0FT"
      },
      "source": [
        "!tar -xvf \"/content/gdrive/MyDrive/VOCtrainval_11-May-2012.tar\" -C \"/content/\"  "
      ],
      "execution_count": null,
      "outputs": []
    },
    {
      "cell_type": "code",
      "metadata": {
        "id": "ErZsjIDIU83A"
      },
      "source": [
        "def parseXML(tree):\n",
        "  roww = OrderedDict()\n",
        "  for elements in tree.iter():\n",
        "    if elements.tag == 'filename':\n",
        "      roww['{}'.format(elements.tag)] = str(elements.text)\n",
        "    if elements.tag =='object':\n",
        "      for element in elements:\n",
        "        if element.tag == 'name':\n",
        "          roww['{}'.format(element.tag)] = str(element.text)\n",
        "  return roww\n",
        "\n"
      ],
      "execution_count": 81,
      "outputs": []
    },
    {
      "cell_type": "code",
      "metadata": {
        "id": "MFUBeZGwdnUf"
      },
      "source": [
        "df_annot = []\n",
        "for file in os.listdir('/content/VOCdevkit/VOC2012/Annotations'):\n",
        "  if file.startswith('.') == 0:\n",
        "    tree = ET.parse(os.path.join('/content/VOCdevkit/VOC2012/Annotations', file))\n",
        "    roww = parseXML(tree)\n",
        "    df_annot.append(roww)\n",
        "\n",
        "df_annotation = pd.DataFrame(df_annot)"
      ],
      "execution_count": 82,
      "outputs": []
    },
    {
      "cell_type": "code",
      "metadata": {
        "colab": {
          "base_uri": "https://localhost:8080/",
          "height": 203
        },
        "id": "XyKZHSx-bmBb",
        "outputId": "66321fde-a0d6-4ffd-f757-a6ee6168dbff"
      },
      "source": [
        "df_annotation.head()"
      ],
      "execution_count": 83,
      "outputs": [
        {
          "output_type": "execute_result",
          "data": {
            "text/html": [
              "<div>\n",
              "<style scoped>\n",
              "    .dataframe tbody tr th:only-of-type {\n",
              "        vertical-align: middle;\n",
              "    }\n",
              "\n",
              "    .dataframe tbody tr th {\n",
              "        vertical-align: top;\n",
              "    }\n",
              "\n",
              "    .dataframe thead th {\n",
              "        text-align: right;\n",
              "    }\n",
              "</style>\n",
              "<table border=\"1\" class=\"dataframe\">\n",
              "  <thead>\n",
              "    <tr style=\"text-align: right;\">\n",
              "      <th></th>\n",
              "      <th>filename</th>\n",
              "      <th>name</th>\n",
              "    </tr>\n",
              "  </thead>\n",
              "  <tbody>\n",
              "    <tr>\n",
              "      <th>0</th>\n",
              "      <td>2012_001950.jpg</td>\n",
              "      <td>person</td>\n",
              "    </tr>\n",
              "    <tr>\n",
              "      <th>1</th>\n",
              "      <td>2012_003193.jpg</td>\n",
              "      <td>person</td>\n",
              "    </tr>\n",
              "    <tr>\n",
              "      <th>2</th>\n",
              "      <td>2008_001188.jpg</td>\n",
              "      <td>person</td>\n",
              "    </tr>\n",
              "    <tr>\n",
              "      <th>3</th>\n",
              "      <td>2011_005301.jpg</td>\n",
              "      <td>person</td>\n",
              "    </tr>\n",
              "    <tr>\n",
              "      <th>4</th>\n",
              "      <td>2010_001543.jpg</td>\n",
              "      <td>person</td>\n",
              "    </tr>\n",
              "  </tbody>\n",
              "</table>\n",
              "</div>"
            ],
            "text/plain": [
              "          filename    name\n",
              "0  2012_001950.jpg  person\n",
              "1  2012_003193.jpg  person\n",
              "2  2008_001188.jpg  person\n",
              "3  2011_005301.jpg  person\n",
              "4  2010_001543.jpg  person"
            ]
          },
          "metadata": {},
          "execution_count": 83
        }
      ]
    },
    {
      "cell_type": "code",
      "metadata": {
        "id": "Tdky6EcYehV6"
      },
      "source": [
        "list_of_unique_class =df_annotation['name'].unique()\n",
        "list_of_files = df_annotation['filename'].unique()\n",
        "annotations_list = df_annotation.values.tolist()"
      ],
      "execution_count": 84,
      "outputs": []
    },
    {
      "cell_type": "code",
      "metadata": {
        "colab": {
          "base_uri": "https://localhost:8080/"
        },
        "id": "lyXPrvSCdFOW",
        "outputId": "42f7ce39-5c90-44a3-f658-10e444d97c8a"
      },
      "source": [
        "len(annotations_list)"
      ],
      "execution_count": 85,
      "outputs": [
        {
          "output_type": "execute_result",
          "data": {
            "text/plain": [
              "17125"
            ]
          },
          "metadata": {},
          "execution_count": 85
        }
      ]
    },
    {
      "cell_type": "code",
      "metadata": {
        "id": "qVffS5XAeER-"
      },
      "source": [
        "df_train_sample = df_annotation.sample(frac = 0.04)\n",
        "train_sample = df_train_sample.values.tolist()\n",
        "validation_sample = df_annotation.sample(frac = 0.02).values.tolist()"
      ],
      "execution_count": 86,
      "outputs": []
    },
    {
      "cell_type": "code",
      "metadata": {
        "colab": {
          "base_uri": "https://localhost:8080/"
        },
        "id": "V7mQ-xrCiCPM",
        "outputId": "3a4c867c-92a2-41cd-ca5c-edd548e9eea2"
      },
      "source": [
        "list_of_unique_class"
      ],
      "execution_count": 87,
      "outputs": [
        {
          "output_type": "execute_result",
          "data": {
            "text/plain": [
              "array(['person', 'bus', 'motorbike', 'diningtable', 'chair', 'cat',\n",
              "       'bird', 'car', 'sofa', 'bicycle', 'boat', 'aeroplane',\n",
              "       'pottedplant', 'train', 'cow', 'dog', 'horse', 'bottle', 'sheep',\n",
              "       'tvmonitor'], dtype=object)"
            ]
          },
          "metadata": {},
          "execution_count": 87
        }
      ]
    },
    {
      "cell_type": "code",
      "metadata": {
        "id": "v4xLGY9ffIYQ"
      },
      "source": [
        "img_dir = '/content/VOCdevkit/VOC2012/JPEGImages'"
      ],
      "execution_count": 88,
      "outputs": []
    },
    {
      "cell_type": "code",
      "metadata": {
        "id": "DyGOthWa3Enn"
      },
      "source": [
        "vgg16_model = tf.keras.applications.vgg16.VGG16()"
      ],
      "execution_count": 89,
      "outputs": []
    },
    {
      "cell_type": "code",
      "metadata": {
        "id": "OALoa0XV3HS2"
      },
      "source": [
        "model = Sequential()\n",
        "for layer in vgg16_model.layers[:-1]:\n",
        "    model.add(layer)\n",
        "\n",
        "for layer in model.layers:\n",
        "  layer.trainable = False\n",
        "\n",
        "extractor = keras.Model(inputs=model.inputs, outputs=[layer.output for layer in model.layers][20])"
      ],
      "execution_count": 90,
      "outputs": []
    },
    {
      "cell_type": "code",
      "metadata": {
        "id": "WaiaS8xa2JBG"
      },
      "source": [
        "def output_nn(sample):\n",
        "  output = []\n",
        "  class_name = []\n",
        "  for entry in train_sample:\n",
        "    image = Image.open('/content/VOCdevkit/VOC2012/JPEGImages/{}'.format(entry[0]))\n",
        "    image = cv2.cvtColor(np.float32(image), cv2.COLOR_BGR2RGB)\n",
        "    image = cv2.resize(image, (224,224))\n",
        "    image_tensor = tf.convert_to_tensor(image, dtype=tf.float32)\n",
        "    features = extractor(tf.expand_dims(image_tensor, axis=0)).numpy()\n",
        "    features = np.squeeze(features, axis=0)\n",
        "    output.append(features)\n",
        "    class_name.append(entry[1])\n",
        "\n",
        "  return output, class_name"
      ],
      "execution_count": 91,
      "outputs": []
    },
    {
      "cell_type": "code",
      "metadata": {
        "id": "FMtBP37EF6JR"
      },
      "source": [
        "svc_model = OneVsRestClassifier(SVC())"
      ],
      "execution_count": 92,
      "outputs": []
    },
    {
      "cell_type": "code",
      "metadata": {
        "id": "Ielsfkik2qrg"
      },
      "source": [
        "def train_svc(sample):\n",
        "  train_output, train_class_name = train_nn(sample)\n",
        "  svc_model.fit(train_output, train_class_name)"
      ],
      "execution_count": 93,
      "outputs": []
    },
    {
      "cell_type": "code",
      "metadata": {
        "id": "Z0LWqAiH4Gwq"
      },
      "source": [
        "train_svc(train_sample)"
      ],
      "execution_count": 94,
      "outputs": []
    },
    {
      "cell_type": "code",
      "metadata": {
        "id": "0g-sOhaS6myh"
      },
      "source": [
        "def test_svc(sample):\n",
        "  test_output, test_class_name = output_nn(sample)\n",
        "  prediction = svc_model.predict(test_output)\n",
        "\n",
        "  return test_class_name, prediction"
      ],
      "execution_count": 95,
      "outputs": []
    },
    {
      "cell_type": "code",
      "metadata": {
        "id": "YE7HeGFo8s07"
      },
      "source": [
        "test_class_name, prediction = test_svc(validation_sample)"
      ],
      "execution_count": 96,
      "outputs": []
    },
    {
      "cell_type": "code",
      "metadata": {
        "colab": {
          "base_uri": "https://localhost:8080/"
        },
        "id": "9mzNTADRJsH5",
        "outputId": "35e1001d-356b-4bd3-8f15-9318849aeba6"
      },
      "source": [
        "accuracy_score(test_class_name, prediction)"
      ],
      "execution_count": 97,
      "outputs": [
        {
          "output_type": "execute_result",
          "data": {
            "text/plain": [
              "0.9722627737226277"
            ]
          },
          "metadata": {},
          "execution_count": 97
        }
      ]
    },
    {
      "cell_type": "code",
      "metadata": {
        "id": "W4HaBdxkLMgM"
      },
      "source": [
        "def plot_confusion_matrix(cm, classes,title='Confusion matrix',cmap=plt.cm.Blues):\n",
        "\n",
        "    plt.imshow(cm, interpolation='nearest', cmap=cmap)\n",
        "    plt.title(title)\n",
        "    plt.colorbar()\n",
        "    tick_marks = np.arange(len(classes))\n",
        "    plt.xticks(tick_marks, classes, rotation=45)\n",
        "    plt.yticks(tick_marks, classes)\n",
        "\n",
        "    thresh = cm.max() / 2.\n",
        "    for i, j in itertools.product(range(cm.shape[0]), range(cm.shape[1])):\n",
        "        plt.text(j, i, format(cm[i, j], 'd'),horizontalalignment=\"center\",color=\"white\" if cm[i, j] > thresh else \"black\")\n",
        "\n",
        "    plt.tight_layout()\n",
        "    plt.ylabel('True label')\n",
        "    plt.xlabel('Predicted label')"
      ],
      "execution_count": 98,
      "outputs": []
    },
    {
      "cell_type": "code",
      "metadata": {
        "colab": {
          "base_uri": "https://localhost:8080/",
          "height": 729
        },
        "id": "yp_WKv3VLPS2",
        "outputId": "ae52f8e6-85fe-4415-d307-30e6f37b1809"
      },
      "source": [
        "cm = confusion_matrix(test_class_name, prediction)\n",
        "classes = ('person', 'bus', 'motorbike', 'diningtable', 'chair', 'cat',\n",
        "       'bird', 'car', 'sofa', 'bicycle', 'boat', 'aeroplane',\n",
        "       'pottedplant', 'train', 'cow', 'dog', 'horse', 'bottle', 'sheep',\n",
        "       'tvmonitor')\n",
        "plt.figure(figsize=(10,10))\n",
        "plot_confusion_matrix(cm, classes)"
      ],
      "execution_count": 99,
      "outputs": [
        {
          "output_type": "display_data",
          "data": {
            "image/png": "[encoded data removed]",
            "text/plain": [
              "<Figure size 720x720 with 2 Axes>"
            ]
          },
          "metadata": {
            "needs_background": "light"
          }
        }
      ]
    }
  ]
}